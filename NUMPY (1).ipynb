{
 "cells": [
  {
   "cell_type": "code",
   "execution_count": 5,
   "id": "f66855fc",
   "metadata": {},
   "outputs": [],
   "source": [
    "import numpy as np"
   ]
  },
  {
   "cell_type": "code",
   "execution_count": 6,
   "id": "2534e7c3",
   "metadata": {},
   "outputs": [
    {
     "data": {
      "text/plain": [
       "array([ 1. , 12.5, 23. ])"
      ]
     },
     "execution_count": 6,
     "metadata": {},
     "output_type": "execute_result"
    }
   ],
   "source": [
    "list=[1,12.5,23]\n",
    "np.array(list)"
   ]
  },
  {
   "cell_type": "code",
   "execution_count": 7,
   "id": "7d558252",
   "metadata": {},
   "outputs": [
    {
     "data": {
      "text/plain": [
       "array([ 1. , 12.5, 23. ])"
      ]
     },
     "execution_count": 7,
     "metadata": {},
     "output_type": "execute_result"
    }
   ],
   "source": [
    "arr=np.array([1,12.5,23])\n",
    "arr"
   ]
  },
  {
   "cell_type": "code",
   "execution_count": null,
   "id": "1bc5b6fc",
   "metadata": {},
   "outputs": [],
   "source": [
    "np.arrange(1,12.5,23)\n"
   ]
  },
  {
   "cell_type": "code",
   "execution_count": 3,
   "id": "cb1a7a1f",
   "metadata": {},
   "outputs": [
    {
     "ename": "NameError",
     "evalue": "name 'np' is not defined",
     "output_type": "error",
     "traceback": [
      "\u001b[1;31m---------------------------------------------------------------------------\u001b[0m",
      "\u001b[1;31mNameError\u001b[0m                                 Traceback (most recent call last)",
      "\u001b[1;32m<ipython-input-3-03406526ab30>\u001b[0m in \u001b[0;36m<module>\u001b[1;34m\u001b[0m\n\u001b[0;32m      1\u001b[0m \u001b[0mlistoflist\u001b[0m\u001b[1;33m=\u001b[0m\u001b[1;33m(\u001b[0m\u001b[1;33m[\u001b[0m\u001b[1;36m1\u001b[0m\u001b[1;33m,\u001b[0m\u001b[1;36m2\u001b[0m\u001b[1;33m,\u001b[0m\u001b[1;36m4\u001b[0m\u001b[1;33m]\u001b[0m\u001b[1;33m,\u001b[0m\u001b[1;33m[\u001b[0m\u001b[1;36m45\u001b[0m\u001b[1;33m,\u001b[0m\u001b[1;36m63\u001b[0m\u001b[1;33m,\u001b[0m\u001b[1;36m25\u001b[0m\u001b[1;33m]\u001b[0m\u001b[1;33m,\u001b[0m\u001b[1;33m[\u001b[0m\u001b[1;36m22\u001b[0m\u001b[1;33m,\u001b[0m\u001b[1;36m33\u001b[0m\u001b[1;33m,\u001b[0m\u001b[1;36m1\u001b[0m\u001b[1;33m]\u001b[0m\u001b[1;33m)\u001b[0m\u001b[1;33m\u001b[0m\u001b[1;33m\u001b[0m\u001b[0m\n\u001b[1;32m----> 2\u001b[1;33m \u001b[0mnp\u001b[0m\u001b[1;33m.\u001b[0m\u001b[0marray\u001b[0m\u001b[1;33m(\u001b[0m\u001b[0mlistoflist\u001b[0m\u001b[1;33m)\u001b[0m\u001b[1;33m\u001b[0m\u001b[1;33m\u001b[0m\u001b[0m\n\u001b[0m",
      "\u001b[1;31mNameError\u001b[0m: name 'np' is not defined"
     ]
    }
   ],
   "source": [
    "listoflist=([1,2,4],[45,63,25],[22,33,1])\n",
    "np.array(listoflist)"
   ]
  },
  {
   "cell_type": "code",
   "execution_count": 4,
   "id": "7f05ffbe",
   "metadata": {},
   "outputs": [
    {
     "ename": "NameError",
     "evalue": "name 'np' is not defined",
     "output_type": "error",
     "traceback": [
      "\u001b[1;31m---------------------------------------------------------------------------\u001b[0m",
      "\u001b[1;31mNameError\u001b[0m                                 Traceback (most recent call last)",
      "\u001b[1;32m<ipython-input-4-7a0cfa326533>\u001b[0m in \u001b[0;36m<module>\u001b[1;34m\u001b[0m\n\u001b[1;32m----> 1\u001b[1;33m \u001b[0mnp\u001b[0m\u001b[1;33m.\u001b[0m\u001b[0marange\u001b[0m\u001b[1;33m(\u001b[0m\u001b[1;36m5\u001b[0m\u001b[1;33m,\u001b[0m\u001b[1;36m28\u001b[0m\u001b[1;33m)\u001b[0m\u001b[1;33m\u001b[0m\u001b[1;33m\u001b[0m\u001b[0m\n\u001b[0m",
      "\u001b[1;31mNameError\u001b[0m: name 'np' is not defined"
     ]
    }
   ],
   "source": [
    "np.arange(5,28)"
   ]
  },
  {
   "cell_type": "code",
   "execution_count": null,
   "id": "f8a39f68",
   "metadata": {},
   "outputs": [],
   "source": [
    "np.zeros(5)"
   ]
  },
  {
   "cell_type": "code",
   "execution_count": null,
   "id": "ac6f55ee",
   "metadata": {},
   "outputs": [],
   "source": [
    "np.zeros(5,dtype=int)"
   ]
  },
  {
   "cell_type": "code",
   "execution_count": null,
   "id": "57c88bd0",
   "metadata": {},
   "outputs": [],
   "source": [
    "np.ones(5)"
   ]
  },
  {
   "cell_type": "code",
   "execution_count": null,
   "id": "e070602c",
   "metadata": {},
   "outputs": [],
   "source": [
    "np.linspace(0,20,10)"
   ]
  },
  {
   "cell_type": "code",
   "execution_count": null,
   "id": "82548e68",
   "metadata": {},
   "outputs": [],
   "source": [
    "np.eye(5)"
   ]
  },
  {
   "cell_type": "code",
   "execution_count": null,
   "id": "7cf6451e",
   "metadata": {},
   "outputs": [],
   "source": [
    "np.eye(5,dtype=int)"
   ]
  },
  {
   "cell_type": "code",
   "execution_count": null,
   "id": "922e46f8",
   "metadata": {},
   "outputs": [],
   "source": [
    "np.random.rand(2,4)"
   ]
  },
  {
   "cell_type": "code",
   "execution_count": null,
   "id": "38b3afd3",
   "metadata": {
    "scrolled": true
   },
   "outputs": [],
   "source": [
    "np.random.randn(2,4)"
   ]
  },
  {
   "cell_type": "code",
   "execution_count": null,
   "id": "0737d5f3",
   "metadata": {},
   "outputs": [],
   "source": [
    "np.random.randint(2,4)"
   ]
  },
  {
   "cell_type": "code",
   "execution_count": null,
   "id": "9328d071",
   "metadata": {},
   "outputs": [],
   "source": [
    "np.random.randint(5,6)"
   ]
  },
  {
   "cell_type": "code",
   "execution_count": null,
   "id": "ffe33aae",
   "metadata": {},
   "outputs": [],
   "source": [
    "np.random.randint(5,8)"
   ]
  },
  {
   "cell_type": "code",
   "execution_count": null,
   "id": "1e0f9655",
   "metadata": {},
   "outputs": [],
   "source": [
    "np.random.randint(0,10,15)"
   ]
  },
  {
   "cell_type": "code",
   "execution_count": null,
   "id": "8a1f696c",
   "metadata": {},
   "outputs": [],
   "source": [
    "list"
   ]
  },
  {
   "cell_type": "code",
   "execution_count": null,
   "id": "1ab39a43",
   "metadata": {},
   "outputs": [],
   "source": [
    "new=np.random.randint(0,10,15)\n",
    "new"
   ]
  },
  {
   "cell_type": "code",
   "execution_count": null,
   "id": "ea2e94a8",
   "metadata": {},
   "outputs": [],
   "source": [
    "new.min()"
   ]
  },
  {
   "cell_type": "code",
   "execution_count": null,
   "id": "a95d22f6",
   "metadata": {},
   "outputs": [],
   "source": [
    "new.argmin()"
   ]
  },
  {
   "cell_type": "code",
   "execution_count": null,
   "id": "0d8a8b29",
   "metadata": {},
   "outputs": [],
   "source": [
    "new.argmax()"
   ]
  },
  {
   "cell_type": "code",
   "execution_count": null,
   "id": "998d82ef",
   "metadata": {},
   "outputs": [],
   "source": [
    "new.T"
   ]
  },
  {
   "cell_type": "code",
   "execution_count": null,
   "id": "b670386b",
   "metadata": {},
   "outputs": [],
   "source": [
    "np.array(new)"
   ]
  },
  {
   "cell_type": "code",
   "execution_count": null,
   "id": "dc394f5a",
   "metadata": {},
   "outputs": [],
   "source": [
    "new.dtype"
   ]
  },
  {
   "cell_type": "code",
   "execution_count": null,
   "id": "42e20bd5",
   "metadata": {},
   "outputs": [],
   "source": [
    "a=np.eye(5)\n",
    "a"
   ]
  },
  {
   "cell_type": "code",
   "execution_count": null,
   "id": "29538fd5",
   "metadata": {},
   "outputs": [],
   "source": [
    "listoflist=([1,2,4],[45,63,25],[22,33,1])\n",
    "np.array(listoflist)"
   ]
  },
  {
   "cell_type": "code",
   "execution_count": null,
   "id": "f2e7cc9f",
   "metadata": {},
   "outputs": [],
   "source": [
    "x=np.array(listoflist)"
   ]
  },
  {
   "cell_type": "code",
   "execution_count": null,
   "id": "1ae6912b",
   "metadata": {},
   "outputs": [],
   "source": [
    "x"
   ]
  },
  {
   "cell_type": "code",
   "execution_count": null,
   "id": "0b169b4a",
   "metadata": {},
   "outputs": [],
   "source": [
    "x.T"
   ]
  },
  {
   "cell_type": "code",
   "execution_count": null,
   "id": "9743131f",
   "metadata": {},
   "outputs": [],
   "source": [
    "y=np.random.rand(4,3)"
   ]
  },
  {
   "cell_type": "code",
   "execution_count": null,
   "id": "e1571b4d",
   "metadata": {},
   "outputs": [],
   "source": [
    "np.random.rand(4,3).T"
   ]
  },
  {
   "cell_type": "code",
   "execution_count": null,
   "id": "078fce2f",
   "metadata": {},
   "outputs": [],
   "source": [
    "x.reshape(3,4)"
   ]
  },
  {
   "cell_type": "code",
   "execution_count": null,
   "id": "e90e4836",
   "metadata": {},
   "outputs": [],
   "source": [
    "y=np.random.rand(4,3)"
   ]
  },
  {
   "cell_type": "code",
   "execution_count": null,
   "id": "969432de",
   "metadata": {},
   "outputs": [],
   "source": [
    "y"
   ]
  },
  {
   "cell_type": "code",
   "execution_count": null,
   "id": "a65a52b8",
   "metadata": {},
   "outputs": [],
   "source": [
    "y.reshape(3,4)"
   ]
  },
  {
   "cell_type": "code",
   "execution_count": 9,
   "id": "e1a829c0",
   "metadata": {},
   "outputs": [],
   "source": [
    "listoflist=([1,2,4],[45,63,25],[22,33,1])\n",
    "z=np.array(listoflist)"
   ]
  },
  {
   "cell_type": "code",
   "execution_count": 10,
   "id": "ae2790c9",
   "metadata": {},
   "outputs": [
    {
     "data": {
      "text/plain": [
       "array([[ 1,  2,  4],\n",
       "       [45, 63, 25],\n",
       "       [22, 33,  1]])"
      ]
     },
     "execution_count": 10,
     "metadata": {},
     "output_type": "execute_result"
    }
   ],
   "source": [
    "z"
   ]
  },
  {
   "cell_type": "code",
   "execution_count": 11,
   "id": "ea1e81e3",
   "metadata": {},
   "outputs": [
    {
     "data": {
      "text/plain": [
       "1"
      ]
     },
     "execution_count": 11,
     "metadata": {},
     "output_type": "execute_result"
    }
   ],
   "source": [
    "z[2][2]"
   ]
  },
  {
   "cell_type": "code",
   "execution_count": null,
   "id": "a41c0bb7",
   "metadata": {},
   "outputs": [],
   "source": [
    "z[1][2]"
   ]
  },
  {
   "cell_type": "code",
   "execution_count": null,
   "id": "f9995c00",
   "metadata": {},
   "outputs": [],
   "source": [
    "z"
   ]
  },
  {
   "cell_type": "code",
   "execution_count": null,
   "id": "86dadd3e",
   "metadata": {},
   "outputs": [],
   "source": [
    "z[:][1]"
   ]
  },
  {
   "cell_type": "code",
   "execution_count": null,
   "id": "c8a7d0e1",
   "metadata": {},
   "outputs": [],
   "source": [
    "z"
   ]
  },
  {
   "cell_type": "code",
   "execution_count": null,
   "id": "a290b84c",
   "metadata": {},
   "outputs": [],
   "source": [
    "z[:,1]"
   ]
  },
  {
   "cell_type": "code",
   "execution_count": null,
   "id": "a9c804a3",
   "metadata": {},
   "outputs": [],
   "source": [
    "z[]"
   ]
  },
  {
   "cell_type": "code",
   "execution_count": null,
   "id": "c789ebc3",
   "metadata": {},
   "outputs": [],
   "source": [
    "z[1:3][2:4]"
   ]
  },
  {
   "cell_type": "code",
   "execution_count": null,
   "id": "3bfb6cc4",
   "metadata": {},
   "outputs": [],
   "source": [
    "z[1:,2:]"
   ]
  },
  {
   "cell_type": "code",
   "execution_count": null,
   "id": "3b880f77",
   "metadata": {},
   "outputs": [],
   "source": [
    "z[1:1][2:3]"
   ]
  },
  {
   "cell_type": "code",
   "execution_count": null,
   "id": "2680e3b5",
   "metadata": {},
   "outputs": [],
   "source": [
    "z[1:1][2:2]"
   ]
  },
  {
   "cell_type": "code",
   "execution_count": null,
   "id": "4ec9cb50",
   "metadata": {},
   "outputs": [],
   "source": [
    "np.sqrt(z)"
   ]
  },
  {
   "cell_type": "code",
   "execution_count": null,
   "id": "2b5d2f46",
   "metadata": {},
   "outputs": [],
   "source": [
    "np.log(z)"
   ]
  },
  {
   "cell_type": "code",
   "execution_count": null,
   "id": "1ff3caf8",
   "metadata": {},
   "outputs": [],
   "source": [
    "np.exp(z)"
   ]
  },
  {
   "cell_type": "code",
   "execution_count": null,
   "id": "e956b8e5",
   "metadata": {},
   "outputs": [],
   "source": [
    "z"
   ]
  },
  {
   "cell_type": "code",
   "execution_count": null,
   "id": "4d9f76ac",
   "metadata": {},
   "outputs": [],
   "source": [
    "z"
   ]
  },
  {
   "cell_type": "code",
   "execution_count": 1,
   "id": "96a12a46",
   "metadata": {},
   "outputs": [
    {
     "ename": "NameError",
     "evalue": "name 'z' is not defined",
     "output_type": "error",
     "traceback": [
      "\u001b[1;31m---------------------------------------------------------------------------\u001b[0m",
      "\u001b[1;31mNameError\u001b[0m                                 Traceback (most recent call last)",
      "\u001b[1;32m<ipython-input-1-3a710d2a84f8>\u001b[0m in \u001b[0;36m<module>\u001b[1;34m\u001b[0m\n\u001b[1;32m----> 1\u001b[1;33m \u001b[0mz\u001b[0m\u001b[1;33m\u001b[0m\u001b[1;33m\u001b[0m\u001b[0m\n\u001b[0m",
      "\u001b[1;31mNameError\u001b[0m: name 'z' is not defined"
     ]
    }
   ],
   "source": [
    "z"
   ]
  },
  {
   "cell_type": "code",
   "execution_count": 8,
   "id": "f49288fa",
   "metadata": {},
   "outputs": [
    {
     "ename": "NameError",
     "evalue": "name 'z' is not defined",
     "output_type": "error",
     "traceback": [
      "\u001b[1;31m---------------------------------------------------------------------------\u001b[0m",
      "\u001b[1;31mNameError\u001b[0m                                 Traceback (most recent call last)",
      "\u001b[1;32m<ipython-input-8-3a710d2a84f8>\u001b[0m in \u001b[0;36m<module>\u001b[1;34m\u001b[0m\n\u001b[1;32m----> 1\u001b[1;33m \u001b[0mz\u001b[0m\u001b[1;33m\u001b[0m\u001b[1;33m\u001b[0m\u001b[0m\n\u001b[0m",
      "\u001b[1;31mNameError\u001b[0m: name 'z' is not defined"
     ]
    }
   ],
   "source": [
    "z"
   ]
  },
  {
   "cell_type": "code",
   "execution_count": 12,
   "id": "bf6a0ab3",
   "metadata": {},
   "outputs": [
    {
     "data": {
      "text/plain": [
       "array([[ 1,  2,  4],\n",
       "       [45, 63, 25],\n",
       "       [22, 33,  1]])"
      ]
     },
     "execution_count": 12,
     "metadata": {},
     "output_type": "execute_result"
    }
   ],
   "source": [
    "z"
   ]
  },
  {
   "cell_type": "code",
   "execution_count": 13,
   "id": "acae34bc",
   "metadata": {},
   "outputs": [
    {
     "data": {
      "text/plain": [
       "array([45, 63, 25])"
      ]
     },
     "execution_count": 13,
     "metadata": {},
     "output_type": "execute_result"
    }
   ],
   "source": [
    "z[:][1]"
   ]
  },
  {
   "cell_type": "code",
   "execution_count": 14,
   "id": "87decdfb",
   "metadata": {},
   "outputs": [
    {
     "data": {
      "text/plain": [
       "array([ 2, 63, 33])"
      ]
     },
     "execution_count": 14,
     "metadata": {},
     "output_type": "execute_result"
    }
   ],
   "source": [
    "z[:,1]"
   ]
  },
  {
   "cell_type": "code",
   "execution_count": 15,
   "id": "316fc63f",
   "metadata": {},
   "outputs": [
    {
     "data": {
      "text/plain": [
       "array([45, 63, 25])"
      ]
     },
     "execution_count": 15,
     "metadata": {},
     "output_type": "execute_result"
    }
   ],
   "source": [
    "z[1,:]"
   ]
  },
  {
   "cell_type": "code",
   "execution_count": 16,
   "id": "111aa5d1",
   "metadata": {},
   "outputs": [
    {
     "data": {
      "text/plain": [
       "25"
      ]
     },
     "execution_count": 16,
     "metadata": {},
     "output_type": "execute_result"
    }
   ],
   "source": [
    "z[:][1][2]"
   ]
  },
  {
   "cell_type": "code",
   "execution_count": null,
   "id": "e303aa2c",
   "metadata": {},
   "outputs": [],
   "source": []
  }
 ],
 "metadata": {
  "kernelspec": {
   "display_name": "Python 3",
   "language": "python",
   "name": "python3"
  },
  "language_info": {
   "codemirror_mode": {
    "name": "ipython",
    "version": 3
   },
   "file_extension": ".py",
   "mimetype": "text/x-python",
   "name": "python",
   "nbconvert_exporter": "python",
   "pygments_lexer": "ipython3",
   "version": "3.8.8"
  }
 },
 "nbformat": 4,
 "nbformat_minor": 5
}
